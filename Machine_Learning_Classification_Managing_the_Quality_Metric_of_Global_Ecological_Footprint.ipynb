{
  "nbformat": 4,
  "nbformat_minor": 0,
  "metadata": {
    "colab": {
      "name": "Machine Learning: Classification - Managing the Quality Metric of Global Ecological Footprint.ipynb",
      "provenance": [],
      "collapsed_sections": []
    },
    "kernelspec": {
      "name": "python3",
      "display_name": "Python 3"
    },
    "language_info": {
      "name": "python"
    }
  },
  "cells": [
    {
      "cell_type": "markdown",
      "metadata": {
        "id": "tkzfemZVlc5u"
      },
      "source": [
        "**Data Preparation**"
      ]
    },
    {
      "cell_type": "code",
      "metadata": {
        "id": "2sotiwA3lYTh"
      },
      "source": [
        "#importing the necessary libraries\n",
        "import pandas as pd\n",
        "import numpy as np"
      ],
      "execution_count": null,
      "outputs": []
    },
    {
      "cell_type": "code",
      "metadata": {
        "id": "2wlkOoAMwMez"
      },
      "source": [
        "# Loading (reading) as dataframe\n",
        "\n",
        "df = pd.read_csv(\"Data_for_UCI_named.csv\")"
      ],
      "execution_count": null,
      "outputs": []
    },
    {
      "cell_type": "code",
      "metadata": {
        "colab": {
          "base_uri": "https://localhost:8080/",
          "height": 204
        },
        "id": "rNZdH17SwbDR",
        "outputId": "cb777863-1cc0-42bd-d5f1-e462a44c521e"
      },
      "source": [
        "df.head()"
      ],
      "execution_count": null,
      "outputs": [
        {
          "output_type": "execute_result",
          "data": {
            "text/html": [
              "<div>\n",
              "<style scoped>\n",
              "    .dataframe tbody tr th:only-of-type {\n",
              "        vertical-align: middle;\n",
              "    }\n",
              "\n",
              "    .dataframe tbody tr th {\n",
              "        vertical-align: top;\n",
              "    }\n",
              "\n",
              "    .dataframe thead th {\n",
              "        text-align: right;\n",
              "    }\n",
              "</style>\n",
              "<table border=\"1\" class=\"dataframe\">\n",
              "  <thead>\n",
              "    <tr style=\"text-align: right;\">\n",
              "      <th></th>\n",
              "      <th>tau1</th>\n",
              "      <th>tau2</th>\n",
              "      <th>tau3</th>\n",
              "      <th>tau4</th>\n",
              "      <th>p1</th>\n",
              "      <th>p2</th>\n",
              "      <th>p3</th>\n",
              "      <th>p4</th>\n",
              "      <th>g1</th>\n",
              "      <th>g2</th>\n",
              "      <th>g3</th>\n",
              "      <th>g4</th>\n",
              "      <th>stab</th>\n",
              "      <th>stabf</th>\n",
              "    </tr>\n",
              "  </thead>\n",
              "  <tbody>\n",
              "    <tr>\n",
              "      <th>0</th>\n",
              "      <td>2.959060</td>\n",
              "      <td>3.079885</td>\n",
              "      <td>8.381025</td>\n",
              "      <td>9.780754</td>\n",
              "      <td>3.763085</td>\n",
              "      <td>-0.782604</td>\n",
              "      <td>-1.257395</td>\n",
              "      <td>-1.723086</td>\n",
              "      <td>0.650456</td>\n",
              "      <td>0.859578</td>\n",
              "      <td>0.887445</td>\n",
              "      <td>0.958034</td>\n",
              "      <td>0.055347</td>\n",
              "      <td>unstable</td>\n",
              "    </tr>\n",
              "    <tr>\n",
              "      <th>1</th>\n",
              "      <td>9.304097</td>\n",
              "      <td>4.902524</td>\n",
              "      <td>3.047541</td>\n",
              "      <td>1.369357</td>\n",
              "      <td>5.067812</td>\n",
              "      <td>-1.940058</td>\n",
              "      <td>-1.872742</td>\n",
              "      <td>-1.255012</td>\n",
              "      <td>0.413441</td>\n",
              "      <td>0.862414</td>\n",
              "      <td>0.562139</td>\n",
              "      <td>0.781760</td>\n",
              "      <td>-0.005957</td>\n",
              "      <td>stable</td>\n",
              "    </tr>\n",
              "    <tr>\n",
              "      <th>2</th>\n",
              "      <td>8.971707</td>\n",
              "      <td>8.848428</td>\n",
              "      <td>3.046479</td>\n",
              "      <td>1.214518</td>\n",
              "      <td>3.405158</td>\n",
              "      <td>-1.207456</td>\n",
              "      <td>-1.277210</td>\n",
              "      <td>-0.920492</td>\n",
              "      <td>0.163041</td>\n",
              "      <td>0.766689</td>\n",
              "      <td>0.839444</td>\n",
              "      <td>0.109853</td>\n",
              "      <td>0.003471</td>\n",
              "      <td>unstable</td>\n",
              "    </tr>\n",
              "    <tr>\n",
              "      <th>3</th>\n",
              "      <td>0.716415</td>\n",
              "      <td>7.669600</td>\n",
              "      <td>4.486641</td>\n",
              "      <td>2.340563</td>\n",
              "      <td>3.963791</td>\n",
              "      <td>-1.027473</td>\n",
              "      <td>-1.938944</td>\n",
              "      <td>-0.997374</td>\n",
              "      <td>0.446209</td>\n",
              "      <td>0.976744</td>\n",
              "      <td>0.929381</td>\n",
              "      <td>0.362718</td>\n",
              "      <td>0.028871</td>\n",
              "      <td>unstable</td>\n",
              "    </tr>\n",
              "    <tr>\n",
              "      <th>4</th>\n",
              "      <td>3.134112</td>\n",
              "      <td>7.608772</td>\n",
              "      <td>4.943759</td>\n",
              "      <td>9.857573</td>\n",
              "      <td>3.525811</td>\n",
              "      <td>-1.125531</td>\n",
              "      <td>-1.845975</td>\n",
              "      <td>-0.554305</td>\n",
              "      <td>0.797110</td>\n",
              "      <td>0.455450</td>\n",
              "      <td>0.656947</td>\n",
              "      <td>0.820923</td>\n",
              "      <td>0.049860</td>\n",
              "      <td>unstable</td>\n",
              "    </tr>\n",
              "  </tbody>\n",
              "</table>\n",
              "</div>"
            ],
            "text/plain": [
              "       tau1      tau2      tau3  ...        g4      stab     stabf\n",
              "0  2.959060  3.079885  8.381025  ...  0.958034  0.055347  unstable\n",
              "1  9.304097  4.902524  3.047541  ...  0.781760 -0.005957    stable\n",
              "2  8.971707  8.848428  3.046479  ...  0.109853  0.003471  unstable\n",
              "3  0.716415  7.669600  4.486641  ...  0.362718  0.028871  unstable\n",
              "4  3.134112  7.608772  4.943759  ...  0.820923  0.049860  unstable\n",
              "\n",
              "[5 rows x 14 columns]"
            ]
          },
          "metadata": {},
          "execution_count": 4
        }
      ]
    },
    {
      "cell_type": "code",
      "metadata": {
        "colab": {
          "base_uri": "https://localhost:8080/"
        },
        "id": "Q03565mcweva",
        "outputId": "3867a895-14c4-48eb-c1ba-0fe11eebd283"
      },
      "source": [
        "# checking for null values\n",
        "df.isna().sum()"
      ],
      "execution_count": null,
      "outputs": [
        {
          "output_type": "execute_result",
          "data": {
            "text/plain": [
              "tau1     0\n",
              "tau2     0\n",
              "tau3     0\n",
              "tau4     0\n",
              "p1       0\n",
              "p2       0\n",
              "p3       0\n",
              "p4       0\n",
              "g1       0\n",
              "g2       0\n",
              "g3       0\n",
              "g4       0\n",
              "stab     0\n",
              "stabf    0\n",
              "dtype: int64"
            ]
          },
          "metadata": {},
          "execution_count": 5
        }
      ]
    },
    {
      "cell_type": "code",
      "metadata": {
        "id": "eR9L5dBlwk_C"
      },
      "source": [
        "# According to the Dataset instructions,the 'stab' column should be dropped.\n",
        "df = df.drop(columns = 'stab')"
      ],
      "execution_count": null,
      "outputs": []
    },
    {
      "cell_type": "code",
      "metadata": {
        "id": "pjlyczutz6Za"
      },
      "source": [
        "# Splitting the data into feature variables & response variable.\n",
        "\n",
        "x = df.drop(['stabf'],axis = 1)\n",
        "y = df['stabf']"
      ],
      "execution_count": null,
      "outputs": []
    },
    {
      "cell_type": "code",
      "metadata": {
        "id": "z6zbCgwR0NM5"
      },
      "source": [
        "# Applying train-test-split\n",
        "from sklearn.model_selection import train_test_split\n",
        "x_train, x_test, y_train, y_test = train_test_split( x, y, test_size=0.2, random_state=1)"
      ],
      "execution_count": null,
      "outputs": []
    },
    {
      "cell_type": "code",
      "metadata": {
        "id": "o5MdQtwG0dCg"
      },
      "source": [
        "# Applying the Standard Scaler Transformation\n",
        "from sklearn.preprocessing import StandardScaler\n",
        "scaler = StandardScaler()\n",
        "transformed_x_train = scaler.fit_transform(x_train)\n",
        "transformed_x_train = pd.DataFrame(transformed_x_train, columns = x_train.columns)"
      ],
      "execution_count": null,
      "outputs": []
    },
    {
      "cell_type": "code",
      "metadata": {
        "colab": {
          "base_uri": "https://localhost:8080/",
          "height": 204
        },
        "id": "MGm0Bfyj2DzR",
        "outputId": "8dc7bea5-44d1-45b6-8ba0-400fdd2c777e"
      },
      "source": [
        "transformed_x_train.head()"
      ],
      "execution_count": null,
      "outputs": [
        {
          "output_type": "execute_result",
          "data": {
            "text/html": [
              "<div>\n",
              "<style scoped>\n",
              "    .dataframe tbody tr th:only-of-type {\n",
              "        vertical-align: middle;\n",
              "    }\n",
              "\n",
              "    .dataframe tbody tr th {\n",
              "        vertical-align: top;\n",
              "    }\n",
              "\n",
              "    .dataframe thead th {\n",
              "        text-align: right;\n",
              "    }\n",
              "</style>\n",
              "<table border=\"1\" class=\"dataframe\">\n",
              "  <thead>\n",
              "    <tr style=\"text-align: right;\">\n",
              "      <th></th>\n",
              "      <th>tau1</th>\n",
              "      <th>tau2</th>\n",
              "      <th>tau3</th>\n",
              "      <th>tau4</th>\n",
              "      <th>p1</th>\n",
              "      <th>p2</th>\n",
              "      <th>p3</th>\n",
              "      <th>p4</th>\n",
              "      <th>g1</th>\n",
              "      <th>g2</th>\n",
              "      <th>g3</th>\n",
              "      <th>g4</th>\n",
              "    </tr>\n",
              "  </thead>\n",
              "  <tbody>\n",
              "    <tr>\n",
              "      <th>0</th>\n",
              "      <td>0.367327</td>\n",
              "      <td>-0.986042</td>\n",
              "      <td>0.650447</td>\n",
              "      <td>1.547527</td>\n",
              "      <td>-0.291490</td>\n",
              "      <td>0.061535</td>\n",
              "      <td>1.293862</td>\n",
              "      <td>-0.845074</td>\n",
              "      <td>0.160918</td>\n",
              "      <td>0.339859</td>\n",
              "      <td>0.585568</td>\n",
              "      <td>0.492239</td>\n",
              "    </tr>\n",
              "    <tr>\n",
              "      <th>1</th>\n",
              "      <td>-0.064659</td>\n",
              "      <td>0.089437</td>\n",
              "      <td>1.035079</td>\n",
              "      <td>-1.641494</td>\n",
              "      <td>0.619865</td>\n",
              "      <td>-0.067235</td>\n",
              "      <td>-1.502925</td>\n",
              "      <td>0.486613</td>\n",
              "      <td>-0.293143</td>\n",
              "      <td>-1.558488</td>\n",
              "      <td>1.429649</td>\n",
              "      <td>-1.443521</td>\n",
              "    </tr>\n",
              "    <tr>\n",
              "      <th>2</th>\n",
              "      <td>-1.467850</td>\n",
              "      <td>1.298418</td>\n",
              "      <td>-0.502536</td>\n",
              "      <td>1.166046</td>\n",
              "      <td>-0.180521</td>\n",
              "      <td>0.490603</td>\n",
              "      <td>0.682560</td>\n",
              "      <td>-0.855302</td>\n",
              "      <td>1.399350</td>\n",
              "      <td>1.451534</td>\n",
              "      <td>-1.045743</td>\n",
              "      <td>0.492489</td>\n",
              "    </tr>\n",
              "    <tr>\n",
              "      <th>3</th>\n",
              "      <td>0.820081</td>\n",
              "      <td>0.529920</td>\n",
              "      <td>1.299657</td>\n",
              "      <td>-1.141975</td>\n",
              "      <td>-0.812854</td>\n",
              "      <td>-0.763632</td>\n",
              "      <td>1.521579</td>\n",
              "      <td>0.658780</td>\n",
              "      <td>-0.958319</td>\n",
              "      <td>1.361958</td>\n",
              "      <td>1.604140</td>\n",
              "      <td>0.275303</td>\n",
              "    </tr>\n",
              "    <tr>\n",
              "      <th>4</th>\n",
              "      <td>0.665424</td>\n",
              "      <td>-1.425627</td>\n",
              "      <td>0.312300</td>\n",
              "      <td>0.919137</td>\n",
              "      <td>-1.614296</td>\n",
              "      <td>0.760315</td>\n",
              "      <td>1.422019</td>\n",
              "      <td>0.639243</td>\n",
              "      <td>1.676895</td>\n",
              "      <td>0.695660</td>\n",
              "      <td>1.137504</td>\n",
              "      <td>-1.312575</td>\n",
              "    </tr>\n",
              "  </tbody>\n",
              "</table>\n",
              "</div>"
            ],
            "text/plain": [
              "       tau1      tau2      tau3  ...        g2        g3        g4\n",
              "0  0.367327 -0.986042  0.650447  ...  0.339859  0.585568  0.492239\n",
              "1 -0.064659  0.089437  1.035079  ... -1.558488  1.429649 -1.443521\n",
              "2 -1.467850  1.298418 -0.502536  ...  1.451534 -1.045743  0.492489\n",
              "3  0.820081  0.529920  1.299657  ...  1.361958  1.604140  0.275303\n",
              "4  0.665424 -1.425627  0.312300  ...  0.695660  1.137504 -1.312575\n",
              "\n",
              "[5 rows x 12 columns]"
            ]
          },
          "metadata": {},
          "execution_count": 10
        }
      ]
    },
    {
      "cell_type": "code",
      "metadata": {
        "id": "lGpL_2kz2Id4"
      },
      "source": [
        "# Transforming the x_test data\n",
        "transformed_x_test = scaler.transform(x_test)\n",
        "transformed_x_test = pd.DataFrame(transformed_x_test, columns = x_test.columns)"
      ],
      "execution_count": null,
      "outputs": []
    },
    {
      "cell_type": "code",
      "metadata": {
        "colab": {
          "base_uri": "https://localhost:8080/",
          "height": 204
        },
        "id": "ikb3uWmc2Unx",
        "outputId": "476e8308-4315-4804-f9ed-fc7f9592ecd9"
      },
      "source": [
        "transformed_x_test.head()"
      ],
      "execution_count": null,
      "outputs": [
        {
          "output_type": "execute_result",
          "data": {
            "text/html": [
              "<div>\n",
              "<style scoped>\n",
              "    .dataframe tbody tr th:only-of-type {\n",
              "        vertical-align: middle;\n",
              "    }\n",
              "\n",
              "    .dataframe tbody tr th {\n",
              "        vertical-align: top;\n",
              "    }\n",
              "\n",
              "    .dataframe thead th {\n",
              "        text-align: right;\n",
              "    }\n",
              "</style>\n",
              "<table border=\"1\" class=\"dataframe\">\n",
              "  <thead>\n",
              "    <tr style=\"text-align: right;\">\n",
              "      <th></th>\n",
              "      <th>tau1</th>\n",
              "      <th>tau2</th>\n",
              "      <th>tau3</th>\n",
              "      <th>tau4</th>\n",
              "      <th>p1</th>\n",
              "      <th>p2</th>\n",
              "      <th>p3</th>\n",
              "      <th>p4</th>\n",
              "      <th>g1</th>\n",
              "      <th>g2</th>\n",
              "      <th>g3</th>\n",
              "      <th>g4</th>\n",
              "    </tr>\n",
              "  </thead>\n",
              "  <tbody>\n",
              "    <tr>\n",
              "      <th>0</th>\n",
              "      <td>0.593951</td>\n",
              "      <td>-0.412733</td>\n",
              "      <td>1.503924</td>\n",
              "      <td>1.116943</td>\n",
              "      <td>0.403423</td>\n",
              "      <td>-1.492971</td>\n",
              "      <td>-0.785033</td>\n",
              "      <td>1.566781</td>\n",
              "      <td>-0.901007</td>\n",
              "      <td>1.167203</td>\n",
              "      <td>-1.507330</td>\n",
              "      <td>1.084726</td>\n",
              "    </tr>\n",
              "    <tr>\n",
              "      <th>1</th>\n",
              "      <td>0.202190</td>\n",
              "      <td>0.374416</td>\n",
              "      <td>-0.188800</td>\n",
              "      <td>-0.522268</td>\n",
              "      <td>-0.225967</td>\n",
              "      <td>-1.058483</td>\n",
              "      <td>0.420047</td>\n",
              "      <td>1.028627</td>\n",
              "      <td>-1.625721</td>\n",
              "      <td>-0.395660</td>\n",
              "      <td>1.414651</td>\n",
              "      <td>1.226011</td>\n",
              "    </tr>\n",
              "    <tr>\n",
              "      <th>2</th>\n",
              "      <td>-1.079044</td>\n",
              "      <td>-0.313745</td>\n",
              "      <td>-0.884634</td>\n",
              "      <td>0.017080</td>\n",
              "      <td>-0.943122</td>\n",
              "      <td>0.112653</td>\n",
              "      <td>0.801335</td>\n",
              "      <td>0.733004</td>\n",
              "      <td>1.457108</td>\n",
              "      <td>-1.438495</td>\n",
              "      <td>0.651821</td>\n",
              "      <td>-1.682168</td>\n",
              "    </tr>\n",
              "    <tr>\n",
              "      <th>3</th>\n",
              "      <td>-0.083120</td>\n",
              "      <td>-1.107327</td>\n",
              "      <td>0.372805</td>\n",
              "      <td>-1.708152</td>\n",
              "      <td>0.753990</td>\n",
              "      <td>-1.637972</td>\n",
              "      <td>0.403805</td>\n",
              "      <td>-0.088036</td>\n",
              "      <td>0.083322</td>\n",
              "      <td>-1.672322</td>\n",
              "      <td>-0.357714</td>\n",
              "      <td>1.055865</td>\n",
              "    </tr>\n",
              "    <tr>\n",
              "      <th>4</th>\n",
              "      <td>0.873921</td>\n",
              "      <td>1.438466</td>\n",
              "      <td>0.086662</td>\n",
              "      <td>1.715037</td>\n",
              "      <td>-0.153880</td>\n",
              "      <td>-0.007015</td>\n",
              "      <td>-0.197053</td>\n",
              "      <td>0.472315</td>\n",
              "      <td>0.136549</td>\n",
              "      <td>-1.469731</td>\n",
              "      <td>0.956396</td>\n",
              "      <td>-0.819727</td>\n",
              "    </tr>\n",
              "  </tbody>\n",
              "</table>\n",
              "</div>"
            ],
            "text/plain": [
              "       tau1      tau2      tau3  ...        g2        g3        g4\n",
              "0  0.593951 -0.412733  1.503924  ...  1.167203 -1.507330  1.084726\n",
              "1  0.202190  0.374416 -0.188800  ... -0.395660  1.414651  1.226011\n",
              "2 -1.079044 -0.313745 -0.884634  ... -1.438495  0.651821 -1.682168\n",
              "3 -0.083120 -1.107327  0.372805  ... -1.672322 -0.357714  1.055865\n",
              "4  0.873921  1.438466  0.086662  ... -1.469731  0.956396 -0.819727\n",
              "\n",
              "[5 rows x 12 columns]"
            ]
          },
          "metadata": {},
          "execution_count": 12
        }
      ]
    },
    {
      "cell_type": "markdown",
      "metadata": {
        "id": "84JRMCr42on3"
      },
      "source": [
        "**Question 1 : What is the F1 Score of the Classifier?** \n",
        "**Ans : 0.3177**"
      ]
    },
    {
      "cell_type": "code",
      "metadata": {
        "id": "8-iFDHyx2a9I",
        "colab": {
          "base_uri": "https://localhost:8080/"
        },
        "outputId": "a49352f0-31d2-4bff-b345-d2e16143bf49"
      },
      "source": [
        "# Total instances (given) (n) = 2000\n",
        "# F1 = 2 * (Precision*Recall)/(Precision + Recall)\n",
        "Precision = (355/ ( 355+1480)) \n",
        "Recall =  (355 /(355+45)) \n",
        "F1_Score = 2 * (Precision*Recall)/(Precision + Recall)\n",
        "print(round(F1_Score,4))"
      ],
      "execution_count": null,
      "outputs": [
        {
          "output_type": "stream",
          "name": "stdout",
          "text": [
            "0.3177\n"
          ]
        }
      ]
    },
    {
      "cell_type": "markdown",
      "metadata": {
        "id": "tpBbSb6HX6rH"
      },
      "source": [
        "**Question 14 : What is the accuracy on the test set using the random forest classifier? In 4 decimal places.**\n",
        "**Ans : 0.9295**"
      ]
    },
    {
      "cell_type": "code",
      "metadata": {
        "colab": {
          "base_uri": "https://localhost:8080/"
        },
        "id": "ZUnlg6KRXfXa",
        "outputId": "fdaf9d93-5d21-4d0a-8494-2f8f443a508c"
      },
      "source": [
        "from sklearn.ensemble import RandomForestClassifier  # importing our classifier and fitting in the the training data\n",
        "rand_c = RandomForestClassifier(random_state=1)\n",
        "rand_c.fit(transformed_x_train,y_train)"
      ],
      "execution_count": null,
      "outputs": [
        {
          "output_type": "execute_result",
          "data": {
            "text/plain": [
              "RandomForestClassifier(bootstrap=True, ccp_alpha=0.0, class_weight=None,\n",
              "                       criterion='gini', max_depth=None, max_features='auto',\n",
              "                       max_leaf_nodes=None, max_samples=None,\n",
              "                       min_impurity_decrease=0.0, min_impurity_split=None,\n",
              "                       min_samples_leaf=1, min_samples_split=2,\n",
              "                       min_weight_fraction_leaf=0.0, n_estimators=100,\n",
              "                       n_jobs=None, oob_score=False, random_state=1, verbose=0,\n",
              "                       warm_start=False)"
            ]
          },
          "metadata": {},
          "execution_count": 14
        }
      ]
    },
    {
      "cell_type": "code",
      "metadata": {
        "id": "2GrL86DNa1Qr"
      },
      "source": [
        "pred = rand_c.predict(transformed_x_test)"
      ],
      "execution_count": null,
      "outputs": []
    },
    {
      "cell_type": "code",
      "metadata": {
        "colab": {
          "base_uri": "https://localhost:8080/"
        },
        "id": "adf7FoWsa7dA",
        "outputId": "8775f1b8-c718-43bb-e488-fc13c77346fa"
      },
      "source": [
        "from sklearn.metrics import recall_score, accuracy_score, precision_score, f1_score, confusion_matrix\n",
        "\n",
        "print(\"Accuracy score {}\".format(round(accuracy_score(y_test, pred), 4)))\n",
        "print(\"Precision score for label stable %.3f\" % (precision_score(y_test, pred, pos_label='stable')))\n",
        "print(\"Recall score for label stable {}\".format(round(recall_score(y_test, pred, pos_label='stable'), 4)))\n",
        "print(\"F1 score %.3f\" % (f1_score(y_test, pred, pos_label='stable')))"
      ],
      "execution_count": null,
      "outputs": [
        {
          "output_type": "stream",
          "name": "stdout",
          "text": [
            "Accuracy score 0.929\n",
            "Precision score for label stable 0.919\n",
            "Recall score for label stable 0.8778\n",
            "F1 score 0.898\n"
          ]
        }
      ]
    },
    {
      "cell_type": "markdown",
      "metadata": {
        "id": "kKUcGs4wbbJw"
      },
      "source": [
        "**Question 15 : What is the accuracy on the test set using the xgboost classifier? In 4 decimal places.**\n",
        "**Ans : 0.9195**"
      ]
    },
    {
      "cell_type": "code",
      "metadata": {
        "id": "RDhqA6EKbapR"
      },
      "source": [
        "#xgboost\n",
        "from xgboost import XGBClassifier\n",
        "xgb = XGBClassifier(random_state =1)\n",
        "xgb.fit(transformed_x_train, y_train)\n",
        "xgb_pred = xgb.predict(transformed_x_test)"
      ],
      "execution_count": null,
      "outputs": []
    },
    {
      "cell_type": "code",
      "metadata": {
        "colab": {
          "base_uri": "https://localhost:8080/"
        },
        "id": "IbTBnxOJb68A",
        "outputId": "06d4855a-921d-4b6e-8705-8b9692ae7cf1"
      },
      "source": [
        "round(accuracy_score(y_test,xgb_pred),4)"
      ],
      "execution_count": null,
      "outputs": [
        {
          "output_type": "execute_result",
          "data": {
            "text/plain": [
              "0.9195"
            ]
          },
          "metadata": {},
          "execution_count": 26
        }
      ]
    },
    {
      "cell_type": "markdown",
      "metadata": {
        "id": "R6XhuuGccU-u"
      },
      "source": [
        "**Question 16: What is the accuracy on the test set using the LGBM classifier? In 4 decimal places.**\n",
        "\n",
        "**Ans : 0.9375**"
      ]
    },
    {
      "cell_type": "code",
      "metadata": {
        "id": "Lx6lTnBOcHv4"
      },
      "source": [
        "import lightgbm as lgbm\n",
        "lgbm = lgbm.LGBMClassifier(random_state=1)\n",
        "lgbm.fit(transformed_x_train,y_train)\n",
        "lgbm_pred  = lgbm.predict(transformed_x_test)"
      ],
      "execution_count": null,
      "outputs": []
    },
    {
      "cell_type": "code",
      "metadata": {
        "colab": {
          "base_uri": "https://localhost:8080/"
        },
        "id": "B2yP-gQsciaI",
        "outputId": "04e60790-41e9-4a26-a6e2-8a187db80d6f"
      },
      "source": [
        "round(accuracy_score(y_test, lgbm_pred),4)"
      ],
      "execution_count": null,
      "outputs": [
        {
          "output_type": "execute_result",
          "data": {
            "text/plain": [
              "0.9375"
            ]
          },
          "metadata": {},
          "execution_count": 28
        }
      ]
    },
    {
      "cell_type": "markdown",
      "metadata": {
        "id": "qC7cEkaHcu-2"
      },
      "source": [
        "**Question 17 : Using the ExtraTreesClassifier as your estimator with cv=5, n_iter=10, scoring = 'accuracy', n_jobs = -1, verbose = 1 and random_state = 1. What are the best hyperparameters from the randomized search CV?**\n",
        "\n",
        "**Ans : 'max_features': None**,\n",
        "\n",
        " **'min_samples_leaf': 8**,\n",
        "\n",
        " **'min_samples_split': 2**,\n",
        " \n",
        " **'n_estimators': 1000'**"
      ]
    },
    {
      "cell_type": "code",
      "metadata": {
        "id": "gipKvg2acrBQ"
      },
      "source": [
        "from sklearn.ensemble import ExtraTreesClassifier\n",
        "\n",
        "tree_class = ExtraTreesClassifier (random_state = 1) "
      ],
      "execution_count": null,
      "outputs": []
    },
    {
      "cell_type": "code",
      "metadata": {
        "id": "qP5V-D-ddFlK"
      },
      "source": [
        "# given conditions (parameters)\n",
        "n_estimators = [50, 100, 300, 500, 1000]    # Given we are to use this parameters to answer the question\n",
        "\n",
        "min_samples_split = [2, 3, 5, 7, 9]\n",
        "\n",
        "min_samples_leaf = [1, 2, 4, 6, 8]\n",
        "\n",
        "max_features = ['auto', 'sqrt', 'log2', None] \n",
        "\n",
        "hyperparameter_grid = {'n_estimators': n_estimators,\n",
        "\n",
        "                       'min_samples_leaf': min_samples_leaf,\n",
        "\n",
        "                       'min_samples_split': min_samples_split,\n",
        "\n",
        "                       'max_features': max_features}"
      ],
      "execution_count": null,
      "outputs": []
    },
    {
      "cell_type": "code",
      "metadata": {
        "id": "fyIB01_4dITY"
      },
      "source": [
        "from sklearn.model_selection import RandomizedSearchCV\n",
        "rand = RandomizedSearchCV(estimator = tree_class, param_distributions= hyperparameter_grid, random_state=1,cv = 5, n_iter=10,scoring='accuracy',n_jobs=1, verbose=1)"
      ],
      "execution_count": null,
      "outputs": []
    },
    {
      "cell_type": "code",
      "metadata": {
        "colab": {
          "base_uri": "https://localhost:8080/"
        },
        "id": "jzNypeA8daHp",
        "outputId": "0010924e-8d32-454c-ace7-8e8be49e42fa"
      },
      "source": [
        "search = rand.fit(transformed_x_train,y_train) "
      ],
      "execution_count": null,
      "outputs": [
        {
          "output_type": "stream",
          "name": "stdout",
          "text": [
            "Fitting 5 folds for each of 10 candidates, totalling 50 fits\n"
          ]
        },
        {
          "output_type": "stream",
          "name": "stderr",
          "text": [
            "[Parallel(n_jobs=1)]: Using backend SequentialBackend with 1 concurrent workers.\n",
            "[Parallel(n_jobs=1)]: Done  50 out of  50 | elapsed:  2.0min finished\n"
          ]
        }
      ]
    },
    {
      "cell_type": "code",
      "metadata": {
        "colab": {
          "base_uri": "https://localhost:8080/"
        },
        "id": "DQINsL8xd-3I",
        "outputId": "2bccbd26-56f3-4c4b-eb66-6fe5e68d5e67"
      },
      "source": [
        "#Best Hyperparameters\n",
        "search.best_params_"
      ],
      "execution_count": null,
      "outputs": [
        {
          "output_type": "execute_result",
          "data": {
            "text/plain": [
              "{'max_features': None,\n",
              " 'min_samples_leaf': 8,\n",
              " 'min_samples_split': 2,\n",
              " 'n_estimators': 1000}"
            ]
          },
          "metadata": {},
          "execution_count": 36
        }
      ]
    },
    {
      "cell_type": "markdown",
      "metadata": {
        "id": "DGQEV1GMeTeu"
      },
      "source": [
        "**Question 18 : Train a new ExtraTreesClassifier Model with the new Hyperparameters from the RandomizedSearchCV (with random_state = 1). Is the accuracy of the new optimal model higher or lower than the initial ExtraTreesClassifier model with no hyperparameter tuning?**\n",
        "\n",
        "**Ans : lower**"
      ]
    },
    {
      "cell_type": "code",
      "metadata": {
        "id": "W9pKjpBteG_4"
      },
      "source": [
        "best_Tree_Class = ExtraTreesClassifier(n_estimators=1000, min_samples_split=2, \n",
        "                                 min_samples_leaf=8, max_features=None)\n",
        "best_Tree_Class.fit(transformed_x_train, y_train)\n",
        "best_Tree_Class = best_Tree_Class.predict(transformed_x_test)"
      ],
      "execution_count": null,
      "outputs": []
    },
    {
      "cell_type": "code",
      "metadata": {
        "colab": {
          "base_uri": "https://localhost:8080/"
        },
        "id": "CcsO6H-ve9JZ",
        "outputId": "5e59bc35-d298-41a3-dc0f-1e641acf75e2"
      },
      "source": [
        "print(classification_report(y_test,best_Tree_Class, digits=4))\n",
        "print('\\n')\n",
        "print(\"Accuracy score {}\".format(accuracy_score(y_test, best_Tree_Class)))"
      ],
      "execution_count": null,
      "outputs": [
        {
          "output_type": "stream",
          "name": "stdout",
          "text": [
            "              precision    recall  f1-score   support\n",
            "\n",
            "      stable     0.9198    0.8694    0.8939       712\n",
            "    unstable     0.9299    0.9581    0.9438      1288\n",
            "\n",
            "    accuracy                         0.9265      2000\n",
            "   macro avg     0.9248    0.9137    0.9188      2000\n",
            "weighted avg     0.9263    0.9265    0.9260      2000\n",
            "\n",
            "\n",
            "\n",
            "Accuracy score 0.9265\n"
          ]
        }
      ]
    },
    {
      "cell_type": "code",
      "metadata": {
        "colab": {
          "base_uri": "https://localhost:8080/"
        },
        "id": "rpPH6kNRfwQS",
        "outputId": "492df0ea-2373-4306-d952-b7b76774b6cf"
      },
      "source": [
        "# COMPARING THIS RESULT WITH THE ORIGINAL TREE CLASSIFER WITHOUT TUNING\n",
        "\n",
        "tree_class.fit(transformed_x_train,y_train)\n",
        "tree_pred = tree_class.predict(transformed_x_test)\n",
        "\n",
        "print(classification_report(y_test,tree_pred)) "
      ],
      "execution_count": null,
      "outputs": [
        {
          "output_type": "stream",
          "name": "stdout",
          "text": [
            "              precision    recall  f1-score   support\n",
            "\n",
            "      stable       0.94      0.85      0.89       712\n",
            "    unstable       0.92      0.97      0.95      1288\n",
            "\n",
            "    accuracy                           0.93      2000\n",
            "   macro avg       0.93      0.91      0.92      2000\n",
            "weighted avg       0.93      0.93      0.93      2000\n",
            "\n"
          ]
        }
      ]
    },
    {
      "cell_type": "markdown",
      "metadata": {
        "id": "yC0akEXygPI9"
      },
      "source": [
        "**Question 20 : Find the feature importance using the optimal ExtraTreesClassifier model. Which features are the most and least important respectively?**\n",
        "\n",
        "**Ans : most important feature - tau2**\n",
        "\n",
        "**least important feature - p1** "
      ]
    },
    {
      "cell_type": "code",
      "metadata": {
        "colab": {
          "base_uri": "https://localhost:8080/"
        },
        "id": "pfXXcdbJgS5x",
        "outputId": "15003ddc-872d-47a8-e253-e786923245ab"
      },
      "source": [
        "feature_importance = search.best_estimator_.feature_importances_\n",
        "print ('Feature Importance :\\n', feature_importance)  "
      ],
      "execution_count": null,
      "outputs": [
        {
          "output_type": "stream",
          "name": "stdout",
          "text": [
            "Feature Importance :\n",
            " [0.13723975 0.1405075  0.13468029 0.13541676 0.00368342 0.00533686\n",
            " 0.00542927 0.00496249 0.10256244 0.10757765 0.11306268 0.10954089]\n"
          ]
        }
      ]
    },
    {
      "cell_type": "code",
      "metadata": {
        "colab": {
          "base_uri": "https://localhost:8080/"
        },
        "id": "8bJueH94gXj3",
        "outputId": "895f35ff-0a15-4cff-a38d-28cc9ee32843"
      },
      "source": [
        "sorted (zip(feature_importance,x), reverse = True)"
      ],
      "execution_count": null,
      "outputs": [
        {
          "output_type": "execute_result",
          "data": {
            "text/plain": [
              "[(0.14050750384993677, 'tau2'),\n",
              " (0.13723974766109256, 'tau1'),\n",
              " (0.1354167630909727, 'tau4'),\n",
              " (0.13468028520386593, 'tau3'),\n",
              " (0.11306267999167334, 'g3'),\n",
              " (0.10954089174337298, 'g4'),\n",
              " (0.10757764577478764, 'g2'),\n",
              " (0.10256244080927947, 'g1'),\n",
              " (0.005429268421191957, 'p3'),\n",
              " (0.005336864710946151, 'p2'),\n",
              " (0.004962486591192238, 'p4'),\n",
              " (0.003683422151688322, 'p1')]"
            ]
          },
          "metadata": {},
          "execution_count": 52
        }
      ]
    }
  ]
}